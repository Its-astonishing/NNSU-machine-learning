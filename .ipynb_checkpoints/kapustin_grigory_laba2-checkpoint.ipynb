{
 "cells": [
  {
   "cell_type": "markdown",
   "id": "5ab88bf6",
   "metadata": {},
   "source": [
    "Капустин Григорий Константинович, группа 3821М1ПМвм"
   ]
  },
  {
   "cell_type": "code",
   "execution_count": 1,
   "id": "2c4c62f8",
   "metadata": {},
   "outputs": [],
   "source": [
    "import pandas as pd\n",
    "import numpy as np\n",
    "import matplotlib.pyplot as plt\n",
    "import seaborn as sns\n",
    "%matplotlib inline"
   ]
  },
  {
   "cell_type": "code",
   "execution_count": 2,
   "id": "948f2751",
   "metadata": {},
   "outputs": [],
   "source": [
    "train=pd.read_csv('train.csv')"
   ]
  },
  {
   "cell_type": "code",
   "execution_count": 3,
   "id": "569a2fe4",
   "metadata": {
    "scrolled": true
   },
   "outputs": [],
   "source": [
    "data = train"
   ]
  },
  {
   "cell_type": "markdown",
   "id": "c659913d",
   "metadata": {},
   "source": [
    "## Разделим данные и нормируем данные"
   ]
  },
  {
   "cell_type": "code",
   "execution_count": 4,
   "id": "48953a4d",
   "metadata": {},
   "outputs": [],
   "source": [
    "from sklearn.model_selection import train_test_split\n",
    "from sklearn import preprocessing"
   ]
  },
  {
   "cell_type": "code",
   "execution_count": 5,
   "id": "1fa5069d",
   "metadata": {},
   "outputs": [],
   "source": [
    "X=data.drop('price_range',axis=1)\n",
    "y=data['price_range']\n",
    "scaler = preprocessing.StandardScaler().fit(X)\n",
    "X = scaler.transform(X)\n",
    "X_train, X_test, y_train, y_test = train_test_split(X, y, test_size=0.3, random_state=101)"
   ]
  },
  {
   "cell_type": "code",
   "execution_count": 6,
   "id": "05b99d35",
   "metadata": {},
   "outputs": [
    {
     "name": "stdout",
     "output_type": "stream",
     "text": [
      "Train data:(1400, 20)\n",
      "Train data:(600, 20)\n"
     ]
    }
   ],
   "source": [
    "print(\"Train data:\"+str(X_train.shape))\n",
    "print(\"Train data:\"+str(X_test.shape))"
   ]
  },
  {
   "cell_type": "code",
   "execution_count": 7,
   "id": "dbc61401",
   "metadata": {},
   "outputs": [],
   "source": [
    "from sklearn.neural_network import MLPClassifier\n",
    "from sklearn.metrics import accuracy_score"
   ]
  },
  {
   "cell_type": "markdown",
   "id": "3a17ea3a",
   "metadata": {},
   "source": [
    "## Подбор _гипер_параметров\n",
    "Подберем оптимальное значение параметра регуляризации alpha"
   ]
  },
  {
   "cell_type": "code",
   "execution_count": 8,
   "id": "b8361e41",
   "metadata": {},
   "outputs": [],
   "source": [
    "alpha_arr = np.logspace(-3, 2, 21)\n",
    "test_err = []\n",
    "train_err = []\n",
    "train_acc = []\n",
    "test_acc = []\n",
    "\n",
    "for alpha in alpha_arr:\n",
    "    mlp_model = MLPClassifier(alpha = alpha, hidden_layer_sizes = (100,), solver = 'lbfgs', max_iter = 10000, \n",
    "                              activation = 'logistic', random_state = 42)\n",
    "    \n",
    "    mlp_model.fit(X_train, y_train)\n",
    "\n",
    "    y_train_pred = mlp_model.predict(X_train)\n",
    "    y_test_pred = mlp_model.predict(X_test)\n",
    "    \n",
    "    train_err.append(np.mean(y_train != y_train_pred))\n",
    "    test_err.append(np.mean(y_test != y_test_pred))\n",
    "    train_acc.append(accuracy_score(y_train, y_train_pred))\n",
    "    test_acc.append(accuracy_score(y_test, y_test_pred))"
   ]
  },
  {
   "cell_type": "code",
   "execution_count": 9,
   "id": "ad42c887",
   "metadata": {},
   "outputs": [
    {
     "data": {
      "text/plain": [
       "<matplotlib.legend.Legend at 0x23bd4957c10>"
      ]
     },
     "execution_count": 9,
     "metadata": {},
     "output_type": "execute_result"
    },
    {
     "data": {
      "image/png": "[encoded data removed]",
      "text/plain": [
       "<Figure size 432x288 with 1 Axes>"
      ]
     },
     "metadata": {
      "needs_background": "light"
     },
     "output_type": "display_data"
    }
   ],
   "source": [
    "plt.semilogx(alpha_arr, train_err, 'b-o', label = 'train')\n",
    "plt.semilogx(alpha_arr, test_err, 'r-o', label = 'test')\n",
    "plt.xlim([np.min(alpha_arr), np.max(alpha_arr)])\n",
    "plt.title('Error vs. alpha')\n",
    "plt.xlabel('alpha')\n",
    "plt.ylabel('error')\n",
    "plt.legend()"
   ]
  },
  {
   "cell_type": "markdown",
   "id": "c64890a1",
   "metadata": {},
   "source": [
    "Рассмотрим, как менялась метрика в зависимости от гиперпараметра:"
   ]
  },
  {
   "cell_type": "code",
   "execution_count": 10,
   "id": "32a0cbdb",
   "metadata": {},
   "outputs": [
    {
     "data": {
      "text/plain": [
       "<matplotlib.legend.Legend at 0x23bd964adf0>"
      ]
     },
     "execution_count": 10,
     "metadata": {},
     "output_type": "execute_result"
    },
    {
     "data": {
      "image/png": "[encoded data removed]",
      "text/plain": [
       "<Figure size 432x288 with 1 Axes>"
      ]
     },
     "metadata": {
      "needs_background": "light"
     },
     "output_type": "display_data"
    }
   ],
   "source": [
    "plt.semilogx(alpha_arr, train_acc, 'r-o', label = 'train')\n",
    "plt.semilogx(alpha_arr, test_acc, 'b-o', label = 'test')\n",
    "plt.xlim([np.min(alpha_arr), np.max(alpha_arr)])\n",
    "plt.title('Accuracy vs. alpha')\n",
    "plt.xlabel('alpha')\n",
    "plt.ylabel('Accuracy')\n",
    "plt.legend()"
   ]
  },
  {
   "cell_type": "markdown",
   "id": "0ac4eaaa",
   "metadata": {},
   "source": [
    "Найдем минимальное значение ошибки и Оптимальное значение alpha:"
   ]
  },
  {
   "cell_type": "code",
   "execution_count": 11,
   "id": "e0fb141f",
   "metadata": {},
   "outputs": [
    {
     "name": "stdout",
     "output_type": "stream",
     "text": [
      "Минимальная ошибка на обучающей выборке: 0.0\n",
      "Минимальная ошибка на тестовой выборке: 0.041666666666666664\n"
     ]
    }
   ],
   "source": [
    "min_train_err = np.min(train_err)\n",
    "min_test_err  = np.min(test_err)\n",
    "\n",
    "print(\"Минимальная ошибка на обучающей выборке: \"+str(min_train_err))\n",
    "print(\"Минимальная ошибка на тестовой выборке: \"+str(min_test_err))"
   ]
  },
  {
   "cell_type": "code",
   "execution_count": 12,
   "id": "7e28cbbd",
   "metadata": {},
   "outputs": [
    {
     "name": "stdout",
     "output_type": "stream",
     "text": [
      "Оптимальное alpha: 3.1622776601683795\n"
     ]
    }
   ],
   "source": [
    "alpha_opt = alpha_arr[test_err == min_test_err]\n",
    "alpha_opt = alpha_opt[0]\n",
    "\n",
    "print(\"Оптимальное alpha: \"+str(alpha_opt))"
   ]
  },
  {
   "cell_type": "markdown",
   "id": "3103f706",
   "metadata": {},
   "source": [
    "Классификатор при найденном оптимальном значении alpha."
   ]
  },
  {
   "cell_type": "markdown",
   "id": "0bb54f82",
   "metadata": {},
   "source": [
    "Найдем оптимальное количество нейронов 1-го скрытого слоя при оптимальном значении alpha:"
   ]
  },
  {
   "cell_type": "code",
   "execution_count": 13,
   "id": "5abab0be",
   "metadata": {},
   "outputs": [],
   "source": [
    "hidden_layer = np.arange(1, 500, 20)\n",
    "test_err = []\n",
    "train_err = []\n",
    "train_acc = []\n",
    "test_acc = []\n",
    "\n",
    "for neuron in hidden_layer:\n",
    "    mlp_model = MLPClassifier(alpha = alpha_opt, hidden_layer_sizes = (neuron,), solver = 'lbfgs', max_iter = 10000,\n",
    "                              activation = 'logistic', random_state = 42)\n",
    "    \n",
    "    mlp_model.fit(X_train, y_train)\n",
    "\n",
    "    y_train_pred = mlp_model.predict(X_train)\n",
    "    y_test_pred = mlp_model.predict(X_test)\n",
    "    \n",
    "    train_err.append(np.mean(y_train != y_train_pred))\n",
    "    test_err.append(np.mean(y_test != y_test_pred))\n",
    "    train_acc.append(accuracy_score(y_train, y_train_pred))\n",
    "    test_acc.append(accuracy_score(y_test, y_test_pred))"
   ]
  },
  {
   "cell_type": "code",
   "execution_count": 14,
   "id": "5db38b05",
   "metadata": {},
   "outputs": [
    {
     "data": {
      "image/png": "[encoded data removed]",
      "text/plain": [
       "<Figure size 432x288 with 1 Axes>"
      ]
     },
     "metadata": {
      "needs_background": "light"
     },
     "output_type": "display_data"
    }
   ],
   "source": [
    "plt.semilogx(hidden_layer, train_err, 'r-o', label = 'train')\n",
    "plt.semilogx(hidden_layer, test_err, 'b-o', label = 'test')\n",
    "plt.xlim([np.min(hidden_layer), np.max(hidden_layer)])\n",
    "plt.title('Error vs. number of neurons')\n",
    "plt.xlabel('number of neurons')\n",
    "plt.ylabel('error')\n",
    "plt.legend()\n",
    "pass"
   ]
  },
  {
   "cell_type": "markdown",
   "id": "7e5450f1",
   "metadata": {},
   "source": [
    "Рассмотрим, как менялась точность в зависимости от количества нейронов:"
   ]
  },
  {
   "cell_type": "code",
   "execution_count": 15,
   "id": "9d1c2109",
   "metadata": {},
   "outputs": [
    {
     "data": {
      "image/png": "[encoded data removed]",
      "text/plain": [
       "<Figure size 432x288 with 1 Axes>"
      ]
     },
     "metadata": {
      "needs_background": "light"
     },
     "output_type": "display_data"
    }
   ],
   "source": [
    "plt.semilogx(hidden_layer, train_acc, 'r-o', label = 'train')\n",
    "plt.semilogx(hidden_layer, test_acc, 'b-o', label = 'test')\n",
    "plt.xlim([np.min(hidden_layer), np.max(hidden_layer)])\n",
    "plt.title('Accuracy vs. number of neurons (1)')\n",
    "plt.xlabel('number of neurons  (1)')\n",
    "plt.ylabel('Accuracy')\n",
    "plt.legend()\n",
    "pass"
   ]
  },
  {
   "cell_type": "markdown",
   "id": "e87981fe",
   "metadata": {},
   "source": [
    "Посчитаем минимальное значение ошибки:"
   ]
  },
  {
   "cell_type": "code",
   "execution_count": 16,
   "id": "f239fd8c",
   "metadata": {},
   "outputs": [
    {
     "name": "stdout",
     "output_type": "stream",
     "text": [
      "Минимальная ошибка на обучающей выборке: 0.015714285714285715\n",
      "Минимальная ошибка на тестовой выборке: 0.04\n"
     ]
    }
   ],
   "source": [
    "min_train_err = np.min(train_err)\n",
    "min_test_err  = np.min(test_err)\n",
    "#test_err[np.argmin(train_err)]\n",
    "\n",
    "print(\"Минимальная ошибка на обучающей выборке: \"+str(min_train_err))\n",
    "print(\"Минимальная ошибка на тестовой выборке: \" +str(min_test_err))"
   ]
  },
  {
   "cell_type": "markdown",
   "id": "913c1c09",
   "metadata": {},
   "source": [
    "Оптимальное значение количества нейронов 1-го слоя:"
   ]
  },
  {
   "cell_type": "code",
   "execution_count": 17,
   "id": "1a856f97",
   "metadata": {},
   "outputs": [
    {
     "name": "stdout",
     "output_type": "stream",
     "text": [
      "Оптимальное количество нейронов 1-го слоя: 241\n"
     ]
    }
   ],
   "source": [
    "neuron_opt_1 = hidden_layer[test_err == min_test_err]\n",
    "neuron_opt_1 = neuron_opt_1[0]\n",
    "\n",
    "print(\"Оптимальное количество нейронов 1-го слоя: \"+str(neuron_opt_1))"
   ]
  },
  {
   "cell_type": "markdown",
   "id": "87d7b61b",
   "metadata": {},
   "source": [
    "Добавим второй слой и определим количество нейронов 2-го скрытого слоя при оптимальном значении alpha и оптимальном количестве нейронов 1-го скрытого слоя при том же оптимальном alpha:"
   ]
  },
  {
   "cell_type": "code",
   "execution_count": 18,
   "id": "2fd14908",
   "metadata": {},
   "outputs": [],
   "source": [
    "hidden_layer = np.arange(1, 500, 20)\n",
    "test_err = []\n",
    "train_err = []\n",
    "train_acc = []\n",
    "test_acc = []\n",
    "\n",
    "for neuron in hidden_layer:\n",
    "    mlp_model = MLPClassifier(alpha = alpha_opt, hidden_layer_sizes = (neuron_opt_1, neuron), solver = 'lbfgs', \n",
    "                              max_iter = 10000, activation = 'logistic', random_state = 42)\n",
    "    \n",
    "    mlp_model.fit(X_train, y_train)\n",
    "\n",
    "    y_train_pred = mlp_model.predict(X_train)\n",
    "    y_test_pred = mlp_model.predict(X_test)\n",
    "    \n",
    "    train_err.append(np.mean(y_train != y_train_pred))\n",
    "    test_err.append(np.mean(y_test != y_test_pred))\n",
    "    train_acc.append(accuracy_score(y_train, y_train_pred))\n",
    "    test_acc.append(accuracy_score(y_test, y_test_pred))\n"
   ]
  },
  {
   "cell_type": "code",
   "execution_count": 19,
   "id": "71b83152",
   "metadata": {},
   "outputs": [
    {
     "data": {
      "image/png": "[encoded data removed]",
      "text/plain": [
       "<Figure size 432x288 with 1 Axes>"
      ]
     },
     "metadata": {
      "needs_background": "light"
     },
     "output_type": "display_data"
    }
   ],
   "source": [
    "plt.semilogx(hidden_layer, train_err, 'r-o', label = 'train')\n",
    "plt.semilogx(hidden_layer, test_err, 'b-o', label = 'test')\n",
    "plt.xlim([np.min(hidden_layer), np.max(hidden_layer)])\n",
    "plt.title('Error vs. number of neurons (2)')\n",
    "plt.xlabel('number of neurons (2)')\n",
    "plt.ylabel('error')\n",
    "plt.legend()\n",
    "pass"
   ]
  },
  {
   "cell_type": "code",
   "execution_count": 20,
   "id": "d7041430",
   "metadata": {},
   "outputs": [
    {
     "data": {
      "image/png": "[encoded data removed]",
      "text/plain": [
       "<Figure size 432x288 with 1 Axes>"
      ]
     },
     "metadata": {
      "needs_background": "light"
     },
     "output_type": "display_data"
    }
   ],
   "source": [
    "plt.semilogx(hidden_layer, train_acc, 'r-o', label = 'train')\n",
    "plt.semilogx(hidden_layer, test_acc, 'b-o', label = 'test')\n",
    "plt.xlim([np.min(hidden_layer), np.max(hidden_layer)])\n",
    "plt.title('Accuracy vs. number of neurons (2)')\n",
    "plt.xlabel('number of  neurons (2)')\n",
    "plt.ylabel('Accuracy')\n",
    "plt.legend()\n",
    "pass"
   ]
  },
  {
   "cell_type": "code",
   "execution_count": 21,
   "id": "e27d21ee",
   "metadata": {},
   "outputs": [
    {
     "name": "stdout",
     "output_type": "stream",
     "text": [
      "Минимальная ошибка на обучающей выборке: 0.012857142857142857\n",
      "Минимальная ошибка на тестовой выборке: 0.03166666666666667\n"
     ]
    }
   ],
   "source": [
    "min_train_err = np.min(train_err)\n",
    "min_test_err  = np.min(test_err)\n",
    "#test_err[np.argmin(train_err)]\n",
    "\n",
    "print(\"Минимальная ошибка на обучающей выборке: \" +str(min_train_err))\n",
    "print(\"Минимальная ошибка на тестовой выборке: \" +str(min_test_err))"
   ]
  },
  {
   "cell_type": "code",
   "execution_count": 22,
   "id": "7f89e478",
   "metadata": {},
   "outputs": [
    {
     "name": "stdout",
     "output_type": "stream",
     "text": [
      "Оптимальное количество нейронов 2-го слоя: 221\n"
     ]
    }
   ],
   "source": [
    "neuron_opt_2 = hidden_layer[test_err == min_test_err]\n",
    "neuron_opt_2 = neuron_opt_2[0]\n",
    "\n",
    "print(\"Оптимальное количество нейронов 2-го слоя: \" +str(neuron_opt_2))"
   ]
  },
  {
   "cell_type": "markdown",
   "id": "12981d61",
   "metadata": {},
   "source": [
    "## Теперь обучим нейронную сеть с найденными оптимальными значениями alpha и количества нейронов 1-го и 2-го слоя:"
   ]
  },
  {
   "cell_type": "code",
   "execution_count": 23,
   "id": "1711881b",
   "metadata": {},
   "outputs": [
    {
     "name": "stdout",
     "output_type": "stream",
     "text": [
      "Ошибка на обучающей выборке: 0.015\n",
      "Ошибка на тестовой выборке: 0.03166666666666667\n"
     ]
    }
   ],
   "source": [
    "mlp_model = MLPClassifier(alpha = alpha_opt, hidden_layer_sizes = (neuron_opt_1, neuron_opt_2),\n",
    "                          solver = 'lbfgs', max_iter = 10000, activation = 'logistic', random_state = 42)\n",
    "\n",
    "mlp_model.fit(X_train, y_train)\n",
    "y_train_pred = mlp_model.predict(X_train)\n",
    "y_test_pred = mlp_model.predict(X_test)\n",
    "\n",
    "err_train = np.mean(y_train != y_train_pred)\n",
    "err_test = np.mean(y_test != y_test_pred)\n",
    "\n",
    "print(\"Ошибка на обучающей выборке: \" +str(err_train))\n",
    "print(\"Ошибка на тестовой выборке: \" +str(err_test))"
   ]
  },
  {
   "cell_type": "markdown",
   "id": "5ea7efde",
   "metadata": {},
   "source": [
    "Вывод.\n",
    "\n",
    "Наилучший результат был достигнут при параметре alpha = 3.1622776601683795, количества нейронов 1-го слоя = 241, 2го = 221. Удается получить наименьшую ошибку 3.166%, что лучше, чем в 1й дз( knn -  6.4%)"
   ]
  }
 ],
 "metadata": {
  "kernelspec": {
   "display_name": "Python 3",
   "language": "python",
   "name": "python3"
  },
  "language_info": {
   "codemirror_mode": {
    "name": "ipython",
    "version": 3
   },
   "file_extension": ".py",
   "mimetype": "text/x-python",
   "name": "python",
   "nbconvert_exporter": "python",
   "pygments_lexer": "ipython3",
   "version": "3.8.8"
  }
 },
 "nbformat": 4,
 "nbformat_minor": 5
}
